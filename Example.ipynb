{
 "cells": [
  {
   "cell_type": "markdown",
   "id": "a388e1ec",
   "metadata": {},
   "source": [
    "# Notebook illustrating the use of the RateDistortion module\n",
    "\n",
    "This notebook illustrates the use of the RateDistortion module. The most important functions are ``getRD`` and ``getRD_BA``, which calculate the rate-distortion function $R(D)$ given a prior probability $p_x$ (stored in ``px``) and a distortion function $d(x,y)$ (stored in ``dxy``). The di\n",
    "\n",
    "If $x \\in \\mathcal{X}$ and $y \\in \\mathcal{Y}$, then ``px`` is a $|\\mathcal{X}|$-dimensional numpy vector, and ``dxy`` is a $|\\mathcal{X}|\\times|\\mathcal{Y}|$ numpy matrix.\n",
    "\n",
    "The value returned by ``getRD`` is a Python dictionary, i.e. ``dict``, with elements:\n",
    "* ``Dmax_v`` - containing the vector of $D$ at which $R(D)$ is calculated\n",
    "* ``r_v`` - containing the corresponding values of $R(D)$\n",
    "* ``p`` - containing the joint distributions $p(x,y)$ that are used to obtain $R(D)$ at each point\n",
    "\n",
    "The parameters can be changed in the cell with the leading comment ``# Parameters``, below.\n"
   ]
  },
  {
   "cell_type": "code",
   "execution_count": 1,
   "id": "1693bb37",
   "metadata": {},
   "outputs": [],
   "source": [
    "import numpy as np\n",
    "import matplotlib.pyplot as plt\n",
    "from RateDistortion import *"
   ]
  },
  {
   "cell_type": "code",
   "execution_count": 2,
   "id": "2c6bfe1f",
   "metadata": {},
   "outputs": [],
   "source": [
    "# Parameters\n",
    "\n",
    "# prior probability of x, which is ternary\n",
    "px = np.array([0.3,0.4,0.3])\n",
    "\n",
    "# distortion function - in this example, there are two possible elements of y for each x\n",
    "dxy = np.array([[2,0,1],[0,2,1]])\n",
    "\n",
    "# In the final cell, we display the solution p(x|y) for D nearest this target\n",
    "D_target = 0.5"
   ]
  },
  {
   "cell_type": "code",
   "execution_count": 3,
   "id": "cd88b81d",
   "metadata": {},
   "outputs": [
    {
     "data": {
      "text/html": [],
      "text/plain": [
       "<IPython.core.display.HTML object>"
      ]
     },
     "metadata": {},
     "output_type": "display_data"
    },
    {
     "data": {
      "text/html": [],
      "text/plain": [
       "<IPython.core.display.HTML object>"
      ]
     },
     "metadata": {},
     "output_type": "display_data"
    }
   ],
   "source": [
    "# To suppress the progress bar, either set show_pb=False,\n",
    "# or delete the show_pb=True parameter (False is the default value)\n",
    "\n",
    "# R(D) using the Hayashi method\n",
    "rd = getRD(px,dxy,show_pb=True)\n",
    "\n",
    "# R(D) using the Blahut-Arimoto method\n",
    "rd_ba = getRD_BA(px,dxy,show_pb=True)"
   ]
  },
  {
   "cell_type": "code",
   "execution_count": 4,
   "id": "93ebb44e",
   "metadata": {},
   "outputs": [
    {
     "data": {
      "text/plain": [
       "Text(0.5, 0, 'Average distortion $D$')"
      ]
     },
     "execution_count": 4,
     "metadata": {},
     "output_type": "execute_result"
    },
    {
     "data": {
      "image/png": "[encoded data removed]",
      "text/plain": [
       "<Figure size 640x480 with 1 Axes>"
      ]
     },
     "metadata": {},
     "output_type": "display_data"
    }
   ],
   "source": [
    "# generates the plot\n",
    "\n",
    "R = rd['r_v']\n",
    "D = rd['Dmax_v']\n",
    "plt.plot(D,R)\n",
    "\n",
    "R_ba = rd_ba['r_v']\n",
    "D_ba = rd_ba['Dmax_v']\n",
    "plt.plot(D_ba,R_ba)\n",
    "\n",
    "# note that the two plots should coincide, but with different ranges \n",
    "# so you should see a single line, but with different colors\n",
    "\n",
    "ax = plt.gca()\n",
    "ax.set_ylabel('$R(D)$ (nats / channel use)')\n",
    "ax.set_xlabel('Average distortion $D$')"
   ]
  },
  {
   "cell_type": "code",
   "execution_count": 5,
   "id": "117ff459",
   "metadata": {},
   "outputs": [
    {
     "name": "stdout",
     "output_type": "stream",
     "text": [
      "[[0.20037712 0.89978234 0.59999271]\n",
      " [0.79962288 0.10021766 0.40000729]]\n"
     ]
    }
   ],
   "source": [
    "# finds and prints the conditional probability p(y|x) achieving R(D) at D ~= D_target\n",
    "# using the Hayashi method\n",
    "\n",
    "i = np.sum(D < D_target)\n",
    "\n",
    "# joint probability of x and y in matrix form\n",
    "ny = np.shape(dxy)[0] # size of y alphabet\n",
    "nx = np.shape(dxy)[1] # size of x alphabet\n",
    "pxy = unstack(rd['p'][i],ny,nx) \n",
    "\n",
    "p_y_given_x = pxy @ np.linalg.inv(np.diag(px))\n",
    "print(p_y_given_x)\n",
    "\n",
    "# as this is a probability of y given x, the vertical sums should be equal to 1\n",
    "# uncomment the following line to see this\n",
    "# print(np.sum(p_y_given_x,axis=0))\n"
   ]
  },
  {
   "cell_type": "code",
   "execution_count": null,
   "id": "886e3001",
   "metadata": {},
   "outputs": [],
   "source": []
  }
 ],
 "metadata": {
  "kernelspec": {
   "display_name": "Python 3 (ipykernel)",
   "language": "python",
   "name": "python3"
  },
  "language_info": {
   "codemirror_mode": {
    "name": "ipython",
    "version": 3
   },
   "file_extension": ".py",
   "mimetype": "text/x-python",
   "name": "python",
   "nbconvert_exporter": "python",
   "pygments_lexer": "ipython3",
   "version": "3.12.7"
  }
 },
 "nbformat": 4,
 "nbformat_minor": 5
}
